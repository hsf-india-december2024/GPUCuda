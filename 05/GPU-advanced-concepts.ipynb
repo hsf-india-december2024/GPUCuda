{
 "cells": [
  {
   "cell_type": "markdown",
   "metadata": {},
   "source": [
    "## Advanced concenpts in GPU computing "
   ]
  },
  {
   "cell_type": "code",
   "execution_count": 1,
   "metadata": {
    "scrolled": true
   },
   "outputs": [
    {
     "data": {
      "text/html": [
       "\n",
       "<div align=\"center\"><iframe src=\"https://1drv.ms/p/c/5a70ac10b7f66de0/IQRwAVp77P3lQL_Xs5Xx4jdAAaL43H1wevyOV5JSbpY1ET0\" width=\"600\" height=\"500\" frameborder=\"0\" scrolling=\"no\"></iframe></div>\n"
      ],
      "text/plain": [
       "<IPython.core.display.HTML object>"
      ]
     },
     "metadata": {},
     "output_type": "display_data"
    }
   ],
   "source": [
    "%%HTML\n",
    "\n",
    "<div align=\"center\"><iframe src=\"https://1drv.ms/p/c/5a70ac10b7f66de0/IQRwAVp77P3lQL_Xs5Xx4jdAAaL43H1wevyOV5JSbpY1ET0\" width=\"600\" height=\"500\" frameborder=\"0\" scrolling=\"no\"></iframe></div>\n"
   ]
  },
  {
   "cell_type": "code",
   "execution_count": null,
   "metadata": {},
   "outputs": [],
   "source": []
  }
 ],
 "metadata": {
  "kernelspec": {
   "display_name": "Python 3",
   "language": "python",
   "name": "python3"
  },
  "language_info": {
   "codemirror_mode": {
    "name": "ipython",
    "version": 3
   },
   "file_extension": ".py",
   "mimetype": "text/x-python",
   "name": "python",
   "nbconvert_exporter": "python",
   "pygments_lexer": "ipython3",
   "version": "3.11.9"
  }
 },
 "nbformat": 4,
 "nbformat_minor": 4
}
